{
 "cells": [
  {
   "cell_type": "code",
   "execution_count": 1,
   "id": "8fe6dd4d",
   "metadata": {
    "scrolled": true
   },
   "outputs": [
    {
     "data": {
      "text/plain": [
       "<cqt_anyons.circuit.AnyonicCircuit at 0x225a12b86a0>"
      ]
     },
     "execution_count": 1,
     "metadata": {},
     "output_type": "execute_result"
    }
   ],
   "source": [
    "from cqt_anyons.circuit import AnyonicCircuit\n",
    "import matplotlib.pyplot as plt\n",
    "import numpy as np\n",
    "\n",
    "qc = AnyonicCircuit(1, 4)\n",
    "\n",
    "qc.initialize([1 / np.sqrt(2), 1 / np.sqrt(2), 0, 0, 0])\n",
    "\n",
    "qc.braid(2, 1).braid(2, 3).braid(1, 2)\n",
    "\n",
    "qc.measure()\n"
   ]
  },
  {
   "cell_type": "code",
   "execution_count": 2,
   "id": "53692a69",
   "metadata": {},
   "outputs": [
    {
     "data": {
      "text/plain": [
       "[(2, 1), (2, 3), (1, 2)]"
      ]
     },
     "execution_count": 2,
     "metadata": {},
     "output_type": "execute_result"
    }
   ],
   "source": [
    "qc.history()"
   ]
  },
  {
   "cell_type": "code",
   "execution_count": 3,
   "id": "5ebd9b45",
   "metadata": {},
   "outputs": [
    {
     "data": {
      "text/plain": [
       "['s1', 'is2', 'is1']"
      ]
     },
     "execution_count": 3,
     "metadata": {},
     "output_type": "execute_result"
    }
   ],
   "source": [
    "qc.history(output = \"sigmas\")"
   ]
  },
  {
   "cell_type": "code",
   "execution_count": 4,
   "id": "5cd8ae58",
   "metadata": {},
   "outputs": [
    {
     "data": {
      "text/latex": [
       "$\\sigma^{-1}_1\\sigma^{-1}_2 \\sigma_1$"
      ],
      "text/plain": [
       "<IPython.core.display.Latex object>"
      ]
     },
     "execution_count": 4,
     "metadata": {},
     "output_type": "execute_result"
    }
   ],
   "source": [
    "from IPython.display import Latex\n",
    "Latex(qc.history(output = \"latex\"))"
   ]
  },
  {
   "cell_type": "code",
   "execution_count": 5,
   "id": "c09bf642",
   "metadata": {},
   "outputs": [],
   "source": [
    "qc.drawer.anyons[2].label = \"Beautiful Anyon\"\n",
    "qc.drawer.anyons[1].color = \"blue\" # the anyon that ends at position 1\n",
    "qc.drawer.anyons[4].color = \"red\"\n",
    "\n",
    "a1 = next(filter(lambda x: x.initial_id == 1, qc.drawer.anyons.values())) # the anyon that starts at position 1\n",
    "a1.color = \"green\""
   ]
  },
  {
   "cell_type": "code",
   "execution_count": 8,
   "id": "479435eb",
   "metadata": {},
   "outputs": [
    {
     "data": {
      "image/png": "[encoded data removed]",
      "text/plain": [
       "<Figure size 216x86.4 with 1 Axes>"
      ]
     },
     "execution_count": 8,
     "metadata": {},
     "output_type": "execute_result"
    }
   ],
   "source": [
    "qc.draw()"
   ]
  },
  {
   "cell_type": "code",
   "execution_count": 9,
   "id": "a5a48cd9",
   "metadata": {},
   "outputs": [
    {
     "data": {
      "text/plain": [
       "array([[ 0.61803399-5.55111512e-17j, -0.24293414-7.47674391e-01j,\n",
       "         0.        +0.00000000e+00j,  0.        +0.00000000e+00j,\n",
       "         0.        +0.00000000e+00j],\n",
       "       [ 0.78615138+2.77555756e-17j,  0.19098301+5.87785252e-01j,\n",
       "         0.        +0.00000000e+00j,  0.        +0.00000000e+00j,\n",
       "         0.        +0.00000000e+00j],\n",
       "       [ 0.        +0.00000000e+00j,  0.        +0.00000000e+00j,\n",
       "        -0.80901699+5.87785252e-01j,  0.        +0.00000000e+00j,\n",
       "         0.        +0.00000000e+00j],\n",
       "       [ 0.        +0.00000000e+00j,  0.        +0.00000000e+00j,\n",
       "         0.        +0.00000000e+00j,  0.61803399-5.55111512e-17j,\n",
       "        -0.24293414-7.47674391e-01j],\n",
       "       [ 0.        +0.00000000e+00j,  0.        +0.00000000e+00j,\n",
       "         0.        +0.00000000e+00j,  0.78615138+2.77555756e-17j,\n",
       "         0.19098301+5.87785252e-01j]])"
      ]
     },
     "execution_count": 9,
     "metadata": {},
     "output_type": "execute_result"
    }
   ],
   "source": [
    "qc.unitary()"
   ]
  },
  {
   "cell_type": "code",
   "execution_count": 10,
   "id": "3efd6b43",
   "metadata": {},
   "outputs": [
    {
     "data": {
      "text/plain": [
       "array([[0.26523565-0.52868563j],\n",
       "       [0.69093835+0.41562694j],\n",
       "       [0.        +0.j        ],\n",
       "       [0.        +0.j        ],\n",
       "       [0.        +0.j        ]])"
      ]
     },
     "execution_count": 10,
     "metadata": {},
     "output_type": "execute_result"
    }
   ],
   "source": [
    "qc.statevector()"
   ]
  },
  {
   "cell_type": "code",
   "execution_count": 11,
   "id": "1ee671d3",
   "metadata": {},
   "outputs": [
    {
     "data": {
      "text/plain": [
       "{'counts': {'0': 331, '1': 693}, 'memory': array([1, 1, 1, ..., 0, 1, 1])}"
      ]
     },
     "execution_count": 11,
     "metadata": {},
     "output_type": "execute_result"
    }
   ],
   "source": [
    "qc.run()"
   ]
  },
  {
   "cell_type": "code",
   "execution_count": null,
   "id": "c364f901",
   "metadata": {},
   "outputs": [],
   "source": []
  }
 ],
 "metadata": {
  "kernelspec": {
   "display_name": "Python 3 (ipykernel)",
   "language": "python",
   "name": "python3"
  },
  "language_info": {
   "codemirror_mode": {
    "name": "ipython",
    "version": 3
   },
   "file_extension": ".py",
   "mimetype": "text/x-python",
   "name": "python",
   "nbconvert_exporter": "python",
   "pygments_lexer": "ipython3",
   "version": "3.8.13"
  }
 },
 "nbformat": 4,
 "nbformat_minor": 5
}
